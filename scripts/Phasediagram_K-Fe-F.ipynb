{
 "cells": [
  {
   "cell_type": "code",
   "execution_count": 1,
   "metadata": {},
   "outputs": [],
   "source": [
    "import pymatgen\n",
    "import os\n",
    "import warnings\n",
    "from numbers import Number\n",
    "from pathlib import Path\n",
    "from collections import OrderedDict\n",
    "\n",
    "import numpy as np\n",
    "from pymatgen.analysis.phase_diagram import(CompoundPhaseDiagram, PDEntry, PDPlotter, PhaseDiagram)\n",
    "from pymatgen.core.composition import Composition\n",
    "from pymatgen.core.periodic_table import DummySpecies, Element\n",
    "from pymatgen.entries.computed_entries import ComputedEntry\n",
    "from pymatgen.entries.entry_tools import EntrySet\n",
    "from pymatgen.analysis.phase_diagram import Composition"
   ]
  },
  {
   "cell_type": "code",
   "execution_count": 2,
   "metadata": {},
   "outputs": [],
   "source": [
    "entry1 = PDEntry(\"KF\", -17.602 )\n",
    "entry2 = PDEntry(\"FeF2\", -31.491)\n",
    "entry3 = PDEntry(\"FeF3\", -38.019)\n",
    "entry4 = PDEntry(\"KFe2F6\", -87.666)\n",
    "entry5 = PDEntry(\"KFeF4\", -56.097)\n",
    "entry6 = PDEntry(\"KFeF3\", -49.553)\n",
    "#entry7 = PDEntry(\"KFeF3\", -49.550)\n",
    "entry8 = PDEntry(\"K2Fe2F7\", -105.620)\n",
    "entry9 = PDEntry(\"K0.6FeF3\", -44.983)\n",
    "entry10 = PDEntry(\"K0.25FeF3\", -40.932)\n",
    "entry11 = PDEntry(\"K2FeF5\",-74.266)\n",
    "entry12 = PDEntry(\"K4Fe3F12\",-180.086)\n",
    "entry13 = PDEntry(\"K3Fe6F19\",-269.508)\n",
    "e1 = PDEntry(\"K\", -8.302)\n",
    "e2 = PDEntry(\"Fe\", -15.568)\n",
    "e3 = PDEntry(\"F\", -3.451)"
   ]
  },
  {
   "cell_type": "code",
   "execution_count": 3,
   "metadata": {},
   "outputs": [],
   "source": [
    "new_entries2 = [e1, e2, e3, entry1, entry2, entry3, entry4, entry5, entry6, entry8, entry9, entry10, entry11, entry12, entry13]\n",
    "pd_1 = CompoundPhaseDiagram(new_entries2, [Composition(\"K\"), Composition(\"Fe\"), Composition(\"F\")])\n",
    "pd_2 = PhaseDiagram(new_entries2)\n",
    "new_compound_plotter = PDPlotter(pd_1, show_unstable = True , markersize = 20)\n",
    "pd_plotter = PDPlotter(pd_1, show_unstable = True , markersize = 20)"
   ]
  },
  {
   "cell_type": "code",
   "execution_count": 5,
   "metadata": {},
   "outputs": [
    {
     "name": "stdout",
     "output_type": "stream",
     "text": [
      "({PDEntry : K0.25 Fe1 F3 with energy = -40.9320: 1.0}, 0.0)\n"
     ]
    },
    {
     "data": {
      "application/vnd.plotly.v1+json": {
       "config": {
        "plotlyServerURL": "https://plot.ly"
       },
       "data": [
        {
         "a": [
          1.0000000000000002,
          0,
          null,
          0.9999999999999998,
          0,
          null,
          0,
          0.24999999999998745,
          null,
          0,
          0.9999999999999998,
          null,
          2.0000000000000004,
          0,
          null,
          0.24999999999998745,
          3.9999999999999707,
          null,
          0,
          3.9999999999999707,
          null,
          0,
          1,
          null,
          0,
          0,
          null,
          1.0000000000000002,
          0.9999999999999998,
          null,
          1.0000000000000002,
          2.0000000000000004,
          null,
          1.0000000000000002,
          1,
          null,
          2.0000000000000004,
          3.9999999999999707,
          null,
          0,
          0,
          null,
          0,
          0.9999999999999496,
          null,
          0,
          0.24999999999998745,
          null,
          0.24999999999998745,
          0.9999999999999496,
          null,
          0,
          3.9999999999999707,
          null,
          0,
          0,
          null,
          0,
          2.0000000000000004,
          null,
          0.9999999999999998,
          3.9999999999999707,
          null,
          1.0000000000000002,
          0,
          null,
          0.9999999999999998,
          2.0000000000000004,
          null,
          0.9999999999999496,
          3.9999999999999707,
          null
         ],
         "b": [
          0,
          0,
          null,
          1.0000000000000007,
          1,
          null,
          0.9999999999999997,
          1.000000000000001,
          null,
          0.9999999999999997,
          1.0000000000000007,
          null,
          0.9999999999999999,
          0,
          null,
          1.000000000000001,
          3.0000000000000004,
          null,
          0.9999999999999997,
          3.0000000000000004,
          null,
          1,
          0,
          null,
          0.9999999999999998,
          0,
          null,
          0,
          1.0000000000000007,
          null,
          0,
          0.9999999999999999,
          null,
          0,
          0,
          null,
          0.9999999999999999,
          3.0000000000000004,
          null,
          0.9999999999999997,
          0.9999999999999998,
          null,
          0.9999999999999997,
          2.000000000000001,
          null,
          0.9999999999999998,
          1.000000000000001,
          null,
          1.000000000000001,
          2.000000000000001,
          null,
          0.9999999999999998,
          3.0000000000000004,
          null,
          0.9999999999999997,
          1,
          null,
          0.9999999999999998,
          0.9999999999999999,
          null,
          1.0000000000000007,
          3.0000000000000004,
          null,
          0,
          1,
          null,
          1.0000000000000007,
          0.9999999999999999,
          null,
          2.000000000000001,
          3.0000000000000004,
          null
         ],
         "c": [
          1.0000000000000002,
          1,
          null,
          3.0000000000000027,
          0,
          null,
          2,
          3.0000000000000036,
          null,
          2,
          3.0000000000000027,
          null,
          5.000000000000001,
          1,
          null,
          3.0000000000000036,
          12.000000000000005,
          null,
          2,
          12.000000000000005,
          null,
          0,
          0,
          null,
          2.9999999999999982,
          1,
          null,
          1.0000000000000002,
          3.0000000000000027,
          null,
          1.0000000000000002,
          5.000000000000001,
          null,
          1.0000000000000002,
          0,
          null,
          5.000000000000001,
          12.000000000000005,
          null,
          2,
          2.9999999999999982,
          null,
          2,
          6.000000000000006,
          null,
          2.9999999999999982,
          3.0000000000000036,
          null,
          3.0000000000000036,
          6.000000000000006,
          null,
          2.9999999999999982,
          12.000000000000005,
          null,
          2,
          0,
          null,
          2.9999999999999982,
          5.000000000000001,
          null,
          3.0000000000000027,
          12.000000000000005,
          null,
          1.0000000000000002,
          0,
          null,
          3.0000000000000027,
          5.000000000000001,
          null,
          6.000000000000006,
          12.000000000000005,
          null
         ],
         "hoverinfo": "none",
         "line": {
          "color": "black",
          "width": 1.5
         },
         "mode": "lines",
         "showlegend": false,
         "type": "scatterternary"
        },
        {
         "a": [
          1,
          1.0000000000000002,
          0
         ],
         "b": [
          0,
          0,
          1
         ],
         "c": [
          0,
          1.0000000000000002,
          0
         ],
         "fill": "toself",
         "fillcolor": "#2E91E5",
         "hovertemplate": "<extra></extra>",
         "line": {
          "width": 0
         },
         "mode": "lines",
         "name": "K—KF—Fe",
         "opacity": 0.15,
         "showlegend": false,
         "type": "scatterternary"
        },
        {
         "a": [
          0.9999999999999998,
          0,
          0
         ],
         "b": [
          1.0000000000000007,
          1,
          0.9999999999999997
         ],
         "c": [
          3.0000000000000027,
          0,
          2
         ],
         "fill": "toself",
         "fillcolor": "#E15F99",
         "hovertemplate": "<extra></extra>",
         "line": {
          "width": 0
         },
         "mode": "lines",
         "name": "KFeF<sub>3</sub>—Fe—FeF<sub>2</sub>",
         "opacity": 0.15,
         "showlegend": false,
         "type": "scatterternary"
        },
        {
         "a": [
          0.9999999999999998,
          1.0000000000000002,
          0
         ],
         "b": [
          1.0000000000000007,
          0,
          1
         ],
         "c": [
          3.0000000000000027,
          1.0000000000000002,
          0
         ],
         "fill": "toself",
         "fillcolor": "#1CA71C",
         "hovertemplate": "<extra></extra>",
         "line": {
          "width": 0
         },
         "mode": "lines",
         "name": "KFeF<sub>3</sub>—KF—Fe",
         "opacity": 0.15,
         "showlegend": false,
         "type": "scatterternary"
        },
        {
         "a": [
          3.9999999999999707,
          0.9999999999999998,
          0
         ],
         "b": [
          3.0000000000000004,
          1.0000000000000007,
          0.9999999999999997
         ],
         "c": [
          12.000000000000005,
          3.0000000000000027,
          2
         ],
         "fill": "toself",
         "fillcolor": "#FB0D0D",
         "hovertemplate": "<extra></extra>",
         "line": {
          "width": 0
         },
         "mode": "lines",
         "name": "K<sub>4</sub>Fe<sub>3</sub>F<sub>12</sub>—KFeF<sub>3</sub>—FeF<sub>2</sub>",
         "opacity": 0.15,
         "showlegend": false,
         "type": "scatterternary"
        },
        {
         "a": [
          0.24999999999998745,
          0,
          0
         ],
         "b": [
          1.000000000000001,
          0.9999999999999997,
          0.9999999999999998
         ],
         "c": [
          3.0000000000000036,
          2,
          2.9999999999999982
         ],
         "fill": "toself",
         "fillcolor": "#DA16FF",
         "hovertemplate": "<extra></extra>",
         "line": {
          "width": 0
         },
         "mode": "lines",
         "name": "K<sub>0.25</sub>Fe<sub>1</sub>F<sub>3</sub>—FeF<sub>2</sub>—FeF<sub>3</sub>",
         "opacity": 0.15,
         "showlegend": false,
         "type": "scatterternary"
        },
        {
         "a": [
          0.24999999999998745,
          3.9999999999999707,
          0
         ],
         "b": [
          1.000000000000001,
          3.0000000000000004,
          0.9999999999999998
         ],
         "c": [
          3.0000000000000036,
          12.000000000000005,
          2.9999999999999982
         ],
         "fill": "toself",
         "fillcolor": "#222A2A",
         "hovertemplate": "<extra></extra>",
         "line": {
          "width": 0
         },
         "mode": "lines",
         "name": "K<sub>0.25</sub>Fe<sub>1</sub>F<sub>3</sub>—K<sub>4</sub>Fe<sub>3</sub>F<sub>12</sub>—FeF<sub>3</sub>",
         "opacity": 0.15,
         "showlegend": false,
         "type": "scatterternary"
        },
        {
         "a": [
          2.0000000000000004,
          3.9999999999999707,
          0
         ],
         "b": [
          0.9999999999999999,
          3.0000000000000004,
          0.9999999999999998
         ],
         "c": [
          5.000000000000001,
          12.000000000000005,
          2.9999999999999982
         ],
         "fill": "toself",
         "fillcolor": "#B68100",
         "hovertemplate": "<extra></extra>",
         "line": {
          "width": 0
         },
         "mode": "lines",
         "name": "K<sub>2</sub>FeF<sub>5</sub>—K<sub>4</sub>Fe<sub>3</sub>F<sub>12</sub>—FeF<sub>3</sub>",
         "opacity": 0.15,
         "showlegend": false,
         "type": "scatterternary"
        },
        {
         "a": [
          2.0000000000000004,
          0,
          0
         ],
         "b": [
          0.9999999999999999,
          0.9999999999999998,
          0
         ],
         "c": [
          5.000000000000001,
          2.9999999999999982,
          1
         ],
         "fill": "toself",
         "fillcolor": "#750D86",
         "hovertemplate": "<extra></extra>",
         "line": {
          "width": 0
         },
         "mode": "lines",
         "name": "K<sub>2</sub>FeF<sub>5</sub>—FeF<sub>3</sub>—F<sub>2</sub>",
         "opacity": 0.15,
         "showlegend": false,
         "type": "scatterternary"
        },
        {
         "a": [
          2.0000000000000004,
          1.0000000000000002,
          0
         ],
         "b": [
          0.9999999999999999,
          0,
          0
         ],
         "c": [
          5.000000000000001,
          1.0000000000000002,
          1
         ],
         "fill": "toself",
         "fillcolor": "#EB663B",
         "hovertemplate": "<extra></extra>",
         "line": {
          "width": 0
         },
         "mode": "lines",
         "name": "K<sub>2</sub>FeF<sub>5</sub>—KF—F<sub>2</sub>",
         "opacity": 0.15,
         "showlegend": false,
         "type": "scatterternary"
        },
        {
         "a": [
          2.0000000000000004,
          0.9999999999999998,
          1.0000000000000002
         ],
         "b": [
          0.9999999999999999,
          1.0000000000000007,
          0
         ],
         "c": [
          5.000000000000001,
          3.0000000000000027,
          1.0000000000000002
         ],
         "fill": "toself",
         "fillcolor": "#511CFB",
         "hovertemplate": "<extra></extra>",
         "line": {
          "width": 0
         },
         "mode": "lines",
         "name": "K<sub>2</sub>FeF<sub>5</sub>—KFeF<sub>3</sub>—KF",
         "opacity": 0.15,
         "showlegend": false,
         "type": "scatterternary"
        },
        {
         "a": [
          2.0000000000000004,
          3.9999999999999707,
          0.9999999999999998
         ],
         "b": [
          0.9999999999999999,
          3.0000000000000004,
          1.0000000000000007
         ],
         "c": [
          5.000000000000001,
          12.000000000000005,
          3.0000000000000027
         ],
         "fill": "toself",
         "fillcolor": "#00A08B",
         "hovertemplate": "<extra></extra>",
         "line": {
          "width": 0
         },
         "mode": "lines",
         "name": "K<sub>2</sub>FeF<sub>5</sub>—K<sub>4</sub>Fe<sub>3</sub>F<sub>12</sub>—KFeF<sub>3</sub>",
         "opacity": 0.15,
         "showlegend": false,
         "type": "scatterternary"
        },
        {
         "a": [
          0.9999999999999496,
          3.9999999999999707,
          0
         ],
         "b": [
          2.000000000000001,
          3.0000000000000004,
          0.9999999999999997
         ],
         "c": [
          6.000000000000006,
          12.000000000000005,
          2
         ],
         "fill": "toself",
         "fillcolor": "#FB00D1",
         "hovertemplate": "<extra></extra>",
         "line": {
          "width": 0
         },
         "mode": "lines",
         "name": "KFe<sub>2</sub>F<sub>6</sub>—K<sub>4</sub>Fe<sub>3</sub>F<sub>12</sub>—FeF<sub>2</sub>",
         "opacity": 0.15,
         "showlegend": false,
         "type": "scatterternary"
        },
        {
         "a": [
          0.9999999999999496,
          0.24999999999998745,
          0
         ],
         "b": [
          2.000000000000001,
          1.000000000000001,
          0.9999999999999997
         ],
         "c": [
          6.000000000000006,
          3.0000000000000036,
          2
         ],
         "fill": "toself",
         "fillcolor": "#FC0080",
         "hovertemplate": "<extra></extra>",
         "line": {
          "width": 0
         },
         "mode": "lines",
         "name": "KFe<sub>2</sub>F<sub>6</sub>—K<sub>0.25</sub>Fe<sub>1</sub>F<sub>3</sub>—FeF<sub>2</sub>",
         "opacity": 0.15,
         "showlegend": false,
         "type": "scatterternary"
        },
        {
         "a": [
          0.9999999999999496,
          0.24999999999998745,
          3.9999999999999707
         ],
         "b": [
          2.000000000000001,
          1.000000000000001,
          3.0000000000000004
         ],
         "c": [
          6.000000000000006,
          3.0000000000000036,
          12.000000000000005
         ],
         "fill": "toself",
         "fillcolor": "#B2828D",
         "hovertemplate": "<extra></extra>",
         "line": {
          "width": 0
         },
         "mode": "lines",
         "name": "KFe<sub>2</sub>F<sub>6</sub>—K<sub>0.25</sub>Fe<sub>1</sub>F<sub>3</sub>—K<sub>4</sub>Fe<sub>3</sub>F<sub>12</sub>",
         "opacity": 0.15,
         "showlegend": false,
         "type": "scatterternary"
        },
        {
         "a": [
          1.0000000000000002,
          0,
          0.9999999999999998,
          0,
          0,
          0.24999999999998745,
          2.0000000000000004,
          3.9999999999999707,
          1,
          0,
          0.9999999999999496
         ],
         "b": [
          0,
          0,
          1.0000000000000007,
          1,
          0.9999999999999997,
          1.000000000000001,
          0.9999999999999999,
          3.0000000000000004,
          0,
          0.9999999999999998,
          2.000000000000001
         ],
         "c": [
          1.0000000000000002,
          1,
          3.0000000000000027,
          0,
          2,
          3.0000000000000036,
          5.000000000000001,
          12.000000000000005,
          0,
          2.9999999999999982,
          6.000000000000006
         ],
         "cliponaxis": false,
         "hoverinfo": "text",
         "hoverlabel": {
          "font": {
           "size": 14
          }
         },
         "hovertext": [
          "KF (no ID) <br> -2.924 eV/atom (Stable)",
          "F<sub>2</sub> (no ID) <br> 0.0 eV/atom (Stable)",
          "KFeF<sub>3</sub> (no ID) <br> -3.066 eV/atom (Stable)",
          "Fe (no ID) <br> 0.0 eV/atom (Stable)",
          "FeF<sub>2</sub> (no ID) <br> -3.007 eV/atom (Stable)",
          "K<sub>0.25</sub>Fe<sub>1</sub>F<sub>3</sub> (no ID) <br> -3.044 eV/atom (Stable)",
          "K<sub>2</sub>FeF<sub>5</sub> (no ID) <br> -3.105 eV/atom (Stable)",
          "K<sub>4</sub>Fe<sub>3</sub>F<sub>12</sub> (no ID) <br> -3.093 eV/atom (Stable)",
          "K (no ID) <br> 0.0 eV/atom (Stable)",
          "FeF<sub>3</sub> (no ID) <br> -3.025 eV/atom (Stable)",
          "KFe<sub>2</sub>F<sub>6</sub> (no ID) <br> -3.058 eV/atom (Stable)"
         ],
         "marker": {
          "color": "green",
          "line": {
           "color": "black",
           "width": 2
          },
          "size": 15,
          "symbol": "circle"
         },
         "mode": "markers",
         "name": "Stable",
         "showlegend": true,
         "type": "scatterternary"
        },
        {
         "a": [
          0.6000000000000002,
          1,
          1.9999999999999998,
          3.000000000000001
         ],
         "b": [
          1.0000000000000002,
          1.0000000000000013,
          2.0000000000000036,
          5.9999999999999964
         ],
         "c": [
          3.0000000000000013,
          4.000000000000001,
          7.000000000000003,
          19
         ],
         "cliponaxis": false,
         "hoverinfo": "text",
         "hoverlabel": {
          "font": {
           "size": 14
          }
         },
         "hovertext": [
          "K<sub>0.6</sub>Fe<sub>1</sub>F<sub>3</sub> (no ID) <br> -3.061 eV/atom (+0.001 eV/atom)",
          "KFeF<sub>4</sub> (no ID) <br> -3.07 eV/atom (+0.008 eV/atom)",
          "K<sub>2</sub>Fe<sub>2</sub>F<sub>7</sub> (no ID) <br> -3.066 eV/atom (+0.015 eV/atom)",
          "K<sub>3</sub>Fe<sub>6</sub>F<sub>19</sub> (no ID) <br> -3.058 eV/atom (+0.001 eV/atom)"
         ],
         "marker": {
          "color": [
           0.001,
           0.008,
           0.015,
           0.001
          ],
          "colorbar": {
           "len": 0.5,
           "thickness": 0.02,
           "thicknessmode": "fraction",
           "title": {
            "text": "Energy Above Hull<br>(eV/atom)"
           },
           "x": 0,
           "xpad": 0,
           "y": 1,
           "yanchor": "top",
           "ypad": 0
          },
          "colorscale": [
           [
            0,
            "#fff5e3"
           ],
           [
            0.5,
            "#f24324"
           ],
           [
            1,
            "#c40000"
           ]
          ],
          "line": {
           "color": "black",
           "width": 1
          },
          "opacity": 0.8,
          "size": 7,
          "symbol": "diamond"
         },
         "mode": "markers",
         "name": "Above Hull",
         "showlegend": true,
         "type": "scatterternary"
        }
       ],
       "layout": {
        "autosize": true,
        "coloraxis": {
         "colorbar": {
          "x": 1,
          "y": 0.05,
          "yanchor": "top"
         }
        },
        "margin": {
         "b": 40,
         "l": 20,
         "r": 20,
         "t": 40
        },
        "paper_bgcolor": "rgba(0,0,0,0)",
        "plot_bgcolor": "rgba(0,0,0,0)",
        "showlegend": true,
        "template": {
         "data": {
          "bar": [
           {
            "error_x": {
             "color": "#2a3f5f"
            },
            "error_y": {
             "color": "#2a3f5f"
            },
            "marker": {
             "line": {
              "color": "#E5ECF6",
              "width": 0.5
             },
             "pattern": {
              "fillmode": "overlay",
              "size": 10,
              "solidity": 0.2
             }
            },
            "type": "bar"
           }
          ],
          "barpolar": [
           {
            "marker": {
             "line": {
              "color": "#E5ECF6",
              "width": 0.5
             },
             "pattern": {
              "fillmode": "overlay",
              "size": 10,
              "solidity": 0.2
             }
            },
            "type": "barpolar"
           }
          ],
          "carpet": [
           {
            "aaxis": {
             "endlinecolor": "#2a3f5f",
             "gridcolor": "white",
             "linecolor": "white",
             "minorgridcolor": "white",
             "startlinecolor": "#2a3f5f"
            },
            "baxis": {
             "endlinecolor": "#2a3f5f",
             "gridcolor": "white",
             "linecolor": "white",
             "minorgridcolor": "white",
             "startlinecolor": "#2a3f5f"
            },
            "type": "carpet"
           }
          ],
          "choropleth": [
           {
            "colorbar": {
             "outlinewidth": 0,
             "ticks": ""
            },
            "type": "choropleth"
           }
          ],
          "contour": [
           {
            "colorbar": {
             "outlinewidth": 0,
             "ticks": ""
            },
            "colorscale": [
             [
              0,
              "#0d0887"
             ],
             [
              0.1111111111111111,
              "#46039f"
             ],
             [
              0.2222222222222222,
              "#7201a8"
             ],
             [
              0.3333333333333333,
              "#9c179e"
             ],
             [
              0.4444444444444444,
              "#bd3786"
             ],
             [
              0.5555555555555556,
              "#d8576b"
             ],
             [
              0.6666666666666666,
              "#ed7953"
             ],
             [
              0.7777777777777778,
              "#fb9f3a"
             ],
             [
              0.8888888888888888,
              "#fdca26"
             ],
             [
              1,
              "#f0f921"
             ]
            ],
            "type": "contour"
           }
          ],
          "contourcarpet": [
           {
            "colorbar": {
             "outlinewidth": 0,
             "ticks": ""
            },
            "type": "contourcarpet"
           }
          ],
          "heatmap": [
           {
            "colorbar": {
             "outlinewidth": 0,
             "ticks": ""
            },
            "colorscale": [
             [
              0,
              "#0d0887"
             ],
             [
              0.1111111111111111,
              "#46039f"
             ],
             [
              0.2222222222222222,
              "#7201a8"
             ],
             [
              0.3333333333333333,
              "#9c179e"
             ],
             [
              0.4444444444444444,
              "#bd3786"
             ],
             [
              0.5555555555555556,
              "#d8576b"
             ],
             [
              0.6666666666666666,
              "#ed7953"
             ],
             [
              0.7777777777777778,
              "#fb9f3a"
             ],
             [
              0.8888888888888888,
              "#fdca26"
             ],
             [
              1,
              "#f0f921"
             ]
            ],
            "type": "heatmap"
           }
          ],
          "heatmapgl": [
           {
            "colorbar": {
             "outlinewidth": 0,
             "ticks": ""
            },
            "colorscale": [
             [
              0,
              "#0d0887"
             ],
             [
              0.1111111111111111,
              "#46039f"
             ],
             [
              0.2222222222222222,
              "#7201a8"
             ],
             [
              0.3333333333333333,
              "#9c179e"
             ],
             [
              0.4444444444444444,
              "#bd3786"
             ],
             [
              0.5555555555555556,
              "#d8576b"
             ],
             [
              0.6666666666666666,
              "#ed7953"
             ],
             [
              0.7777777777777778,
              "#fb9f3a"
             ],
             [
              0.8888888888888888,
              "#fdca26"
             ],
             [
              1,
              "#f0f921"
             ]
            ],
            "type": "heatmapgl"
           }
          ],
          "histogram": [
           {
            "marker": {
             "pattern": {
              "fillmode": "overlay",
              "size": 10,
              "solidity": 0.2
             }
            },
            "type": "histogram"
           }
          ],
          "histogram2d": [
           {
            "colorbar": {
             "outlinewidth": 0,
             "ticks": ""
            },
            "colorscale": [
             [
              0,
              "#0d0887"
             ],
             [
              0.1111111111111111,
              "#46039f"
             ],
             [
              0.2222222222222222,
              "#7201a8"
             ],
             [
              0.3333333333333333,
              "#9c179e"
             ],
             [
              0.4444444444444444,
              "#bd3786"
             ],
             [
              0.5555555555555556,
              "#d8576b"
             ],
             [
              0.6666666666666666,
              "#ed7953"
             ],
             [
              0.7777777777777778,
              "#fb9f3a"
             ],
             [
              0.8888888888888888,
              "#fdca26"
             ],
             [
              1,
              "#f0f921"
             ]
            ],
            "type": "histogram2d"
           }
          ],
          "histogram2dcontour": [
           {
            "colorbar": {
             "outlinewidth": 0,
             "ticks": ""
            },
            "colorscale": [
             [
              0,
              "#0d0887"
             ],
             [
              0.1111111111111111,
              "#46039f"
             ],
             [
              0.2222222222222222,
              "#7201a8"
             ],
             [
              0.3333333333333333,
              "#9c179e"
             ],
             [
              0.4444444444444444,
              "#bd3786"
             ],
             [
              0.5555555555555556,
              "#d8576b"
             ],
             [
              0.6666666666666666,
              "#ed7953"
             ],
             [
              0.7777777777777778,
              "#fb9f3a"
             ],
             [
              0.8888888888888888,
              "#fdca26"
             ],
             [
              1,
              "#f0f921"
             ]
            ],
            "type": "histogram2dcontour"
           }
          ],
          "mesh3d": [
           {
            "colorbar": {
             "outlinewidth": 0,
             "ticks": ""
            },
            "type": "mesh3d"
           }
          ],
          "parcoords": [
           {
            "line": {
             "colorbar": {
              "outlinewidth": 0,
              "ticks": ""
             }
            },
            "type": "parcoords"
           }
          ],
          "pie": [
           {
            "automargin": true,
            "type": "pie"
           }
          ],
          "scatter": [
           {
            "fillpattern": {
             "fillmode": "overlay",
             "size": 10,
             "solidity": 0.2
            },
            "type": "scatter"
           }
          ],
          "scatter3d": [
           {
            "line": {
             "colorbar": {
              "outlinewidth": 0,
              "ticks": ""
             }
            },
            "marker": {
             "colorbar": {
              "outlinewidth": 0,
              "ticks": ""
             }
            },
            "type": "scatter3d"
           }
          ],
          "scattercarpet": [
           {
            "marker": {
             "colorbar": {
              "outlinewidth": 0,
              "ticks": ""
             }
            },
            "type": "scattercarpet"
           }
          ],
          "scattergeo": [
           {
            "marker": {
             "colorbar": {
              "outlinewidth": 0,
              "ticks": ""
             }
            },
            "type": "scattergeo"
           }
          ],
          "scattergl": [
           {
            "marker": {
             "colorbar": {
              "outlinewidth": 0,
              "ticks": ""
             }
            },
            "type": "scattergl"
           }
          ],
          "scattermapbox": [
           {
            "marker": {
             "colorbar": {
              "outlinewidth": 0,
              "ticks": ""
             }
            },
            "type": "scattermapbox"
           }
          ],
          "scatterpolar": [
           {
            "marker": {
             "colorbar": {
              "outlinewidth": 0,
              "ticks": ""
             }
            },
            "type": "scatterpolar"
           }
          ],
          "scatterpolargl": [
           {
            "marker": {
             "colorbar": {
              "outlinewidth": 0,
              "ticks": ""
             }
            },
            "type": "scatterpolargl"
           }
          ],
          "scatterternary": [
           {
            "marker": {
             "colorbar": {
              "outlinewidth": 0,
              "ticks": ""
             }
            },
            "type": "scatterternary"
           }
          ],
          "surface": [
           {
            "colorbar": {
             "outlinewidth": 0,
             "ticks": ""
            },
            "colorscale": [
             [
              0,
              "#0d0887"
             ],
             [
              0.1111111111111111,
              "#46039f"
             ],
             [
              0.2222222222222222,
              "#7201a8"
             ],
             [
              0.3333333333333333,
              "#9c179e"
             ],
             [
              0.4444444444444444,
              "#bd3786"
             ],
             [
              0.5555555555555556,
              "#d8576b"
             ],
             [
              0.6666666666666666,
              "#ed7953"
             ],
             [
              0.7777777777777778,
              "#fb9f3a"
             ],
             [
              0.8888888888888888,
              "#fdca26"
             ],
             [
              1,
              "#f0f921"
             ]
            ],
            "type": "surface"
           }
          ],
          "table": [
           {
            "cells": {
             "fill": {
              "color": "#EBF0F8"
             },
             "line": {
              "color": "white"
             }
            },
            "header": {
             "fill": {
              "color": "#C8D4E3"
             },
             "line": {
              "color": "white"
             }
            },
            "type": "table"
           }
          ]
         },
         "layout": {
          "annotationdefaults": {
           "arrowcolor": "#2a3f5f",
           "arrowhead": 0,
           "arrowwidth": 1
          },
          "autotypenumbers": "strict",
          "coloraxis": {
           "colorbar": {
            "outlinewidth": 0,
            "ticks": ""
           }
          },
          "colorscale": {
           "diverging": [
            [
             0,
             "#8e0152"
            ],
            [
             0.1,
             "#c51b7d"
            ],
            [
             0.2,
             "#de77ae"
            ],
            [
             0.3,
             "#f1b6da"
            ],
            [
             0.4,
             "#fde0ef"
            ],
            [
             0.5,
             "#f7f7f7"
            ],
            [
             0.6,
             "#e6f5d0"
            ],
            [
             0.7,
             "#b8e186"
            ],
            [
             0.8,
             "#7fbc41"
            ],
            [
             0.9,
             "#4d9221"
            ],
            [
             1,
             "#276419"
            ]
           ],
           "sequential": [
            [
             0,
             "#0d0887"
            ],
            [
             0.1111111111111111,
             "#46039f"
            ],
            [
             0.2222222222222222,
             "#7201a8"
            ],
            [
             0.3333333333333333,
             "#9c179e"
            ],
            [
             0.4444444444444444,
             "#bd3786"
            ],
            [
             0.5555555555555556,
             "#d8576b"
            ],
            [
             0.6666666666666666,
             "#ed7953"
            ],
            [
             0.7777777777777778,
             "#fb9f3a"
            ],
            [
             0.8888888888888888,
             "#fdca26"
            ],
            [
             1,
             "#f0f921"
            ]
           ],
           "sequentialminus": [
            [
             0,
             "#0d0887"
            ],
            [
             0.1111111111111111,
             "#46039f"
            ],
            [
             0.2222222222222222,
             "#7201a8"
            ],
            [
             0.3333333333333333,
             "#9c179e"
            ],
            [
             0.4444444444444444,
             "#bd3786"
            ],
            [
             0.5555555555555556,
             "#d8576b"
            ],
            [
             0.6666666666666666,
             "#ed7953"
            ],
            [
             0.7777777777777778,
             "#fb9f3a"
            ],
            [
             0.8888888888888888,
             "#fdca26"
            ],
            [
             1,
             "#f0f921"
            ]
           ]
          },
          "colorway": [
           "#636efa",
           "#EF553B",
           "#00cc96",
           "#ab63fa",
           "#FFA15A",
           "#19d3f3",
           "#FF6692",
           "#B6E880",
           "#FF97FF",
           "#FECB52"
          ],
          "font": {
           "color": "#2a3f5f"
          },
          "geo": {
           "bgcolor": "white",
           "lakecolor": "white",
           "landcolor": "#E5ECF6",
           "showlakes": true,
           "showland": true,
           "subunitcolor": "white"
          },
          "hoverlabel": {
           "align": "left"
          },
          "hovermode": "closest",
          "mapbox": {
           "style": "light"
          },
          "paper_bgcolor": "white",
          "plot_bgcolor": "#E5ECF6",
          "polar": {
           "angularaxis": {
            "gridcolor": "white",
            "linecolor": "white",
            "ticks": ""
           },
           "bgcolor": "#E5ECF6",
           "radialaxis": {
            "gridcolor": "white",
            "linecolor": "white",
            "ticks": ""
           }
          },
          "scene": {
           "xaxis": {
            "backgroundcolor": "#E5ECF6",
            "gridcolor": "white",
            "gridwidth": 2,
            "linecolor": "white",
            "showbackground": true,
            "ticks": "",
            "zerolinecolor": "white"
           },
           "yaxis": {
            "backgroundcolor": "#E5ECF6",
            "gridcolor": "white",
            "gridwidth": 2,
            "linecolor": "white",
            "showbackground": true,
            "ticks": "",
            "zerolinecolor": "white"
           },
           "zaxis": {
            "backgroundcolor": "#E5ECF6",
            "gridcolor": "white",
            "gridwidth": 2,
            "linecolor": "white",
            "showbackground": true,
            "ticks": "",
            "zerolinecolor": "white"
           }
          },
          "shapedefaults": {
           "line": {
            "color": "#2a3f5f"
           }
          },
          "ternary": {
           "aaxis": {
            "gridcolor": "white",
            "linecolor": "white",
            "ticks": ""
           },
           "baxis": {
            "gridcolor": "white",
            "linecolor": "white",
            "ticks": ""
           },
           "bgcolor": "#E5ECF6",
           "caxis": {
            "gridcolor": "white",
            "linecolor": "white",
            "ticks": ""
           }
          },
          "title": {
           "x": 0.05
          },
          "xaxis": {
           "automargin": true,
           "gridcolor": "white",
           "linecolor": "white",
           "ticks": "",
           "title": {
            "standoff": 15
           },
           "zerolinecolor": "white",
           "zerolinewidth": 2
          },
          "yaxis": {
           "automargin": true,
           "gridcolor": "white",
           "linecolor": "white",
           "ticks": "",
           "title": {
            "standoff": 15
           },
           "zerolinecolor": "white",
           "zerolinewidth": 2
          }
         }
        },
        "ternary": {
         "aaxis": {
          "layer": "below traces",
          "showgrid": true,
          "showticklabels": true,
          "tickfont": {
           "color": "rgba(0,0,0,0)",
           "size": 7
          },
          "title": {
           "font": {
            "size": 24
           },
           "text": "K"
          }
         },
         "baxis": {
          "layer": "below traces",
          "min": 0,
          "showgrid": true,
          "showticklabels": true,
          "tickfont": {
           "color": "rgba(0,0,0,0)",
           "size": 7
          },
          "title": {
           "font": {
            "size": 24
           },
           "text": "Fe"
          }
         },
         "caxis": {
          "layer": "below traces",
          "min": 0,
          "showgrid": true,
          "showticklabels": true,
          "tickfont": {
           "color": "rgba(0,0,0,0)",
           "size": 7
          },
          "title": {
           "font": {
            "size": 24
           },
           "text": "F<sub>2</sub>"
          }
         },
         "sum": 1
        }
       }
      },
      "text/html": [
       "<div>                            <div id=\"ec6118e2-d2ae-4a4c-a7ea-bed335cfa2f5\" class=\"plotly-graph-div\" style=\"height:525px; width:100%;\"></div>            <script type=\"text/javascript\">                require([\"plotly\"], function(Plotly) {                    window.PLOTLYENV=window.PLOTLYENV || {};                                    if (document.getElementById(\"ec6118e2-d2ae-4a4c-a7ea-bed335cfa2f5\")) {                    Plotly.newPlot(                        \"ec6118e2-d2ae-4a4c-a7ea-bed335cfa2f5\",                        [{\"a\":[1.0000000000000002,0,null,0.9999999999999998,0,null,0,0.24999999999998745,null,0,0.9999999999999998,null,2.0000000000000004,0,null,0.24999999999998745,3.9999999999999707,null,0,3.9999999999999707,null,0,1.0,null,0,0,null,1.0000000000000002,0.9999999999999998,null,1.0000000000000002,2.0000000000000004,null,1.0000000000000002,1.0,null,2.0000000000000004,3.9999999999999707,null,0,0,null,0,0.9999999999999496,null,0,0.24999999999998745,null,0.24999999999998745,0.9999999999999496,null,0,3.9999999999999707,null,0,0,null,0,2.0000000000000004,null,0.9999999999999998,3.9999999999999707,null,1.0000000000000002,0,null,0.9999999999999998,2.0000000000000004,null,0.9999999999999496,3.9999999999999707,null],\"b\":[0,0,null,1.0000000000000007,1.0,null,0.9999999999999997,1.000000000000001,null,0.9999999999999997,1.0000000000000007,null,0.9999999999999999,0,null,1.000000000000001,3.0000000000000004,null,0.9999999999999997,3.0000000000000004,null,1.0,0,null,0.9999999999999998,0,null,0,1.0000000000000007,null,0,0.9999999999999999,null,0,0,null,0.9999999999999999,3.0000000000000004,null,0.9999999999999997,0.9999999999999998,null,0.9999999999999997,2.000000000000001,null,0.9999999999999998,1.000000000000001,null,1.000000000000001,2.000000000000001,null,0.9999999999999998,3.0000000000000004,null,0.9999999999999997,1.0,null,0.9999999999999998,0.9999999999999999,null,1.0000000000000007,3.0000000000000004,null,0,1.0,null,1.0000000000000007,0.9999999999999999,null,2.000000000000001,3.0000000000000004,null],\"c\":[1.0000000000000002,1.0,null,3.0000000000000027,0,null,2.0,3.0000000000000036,null,2.0,3.0000000000000027,null,5.000000000000001,1.0,null,3.0000000000000036,12.000000000000005,null,2.0,12.000000000000005,null,0,0,null,2.9999999999999982,1.0,null,1.0000000000000002,3.0000000000000027,null,1.0000000000000002,5.000000000000001,null,1.0000000000000002,0,null,5.000000000000001,12.000000000000005,null,2.0,2.9999999999999982,null,2.0,6.000000000000006,null,2.9999999999999982,3.0000000000000036,null,3.0000000000000036,6.000000000000006,null,2.9999999999999982,12.000000000000005,null,2.0,0,null,2.9999999999999982,5.000000000000001,null,3.0000000000000027,12.000000000000005,null,1.0000000000000002,0,null,3.0000000000000027,5.000000000000001,null,6.000000000000006,12.000000000000005,null],\"hoverinfo\":\"none\",\"line\":{\"color\":\"black\",\"width\":1.5},\"mode\":\"lines\",\"showlegend\":false,\"type\":\"scatterternary\"},{\"a\":[1.0,1.0000000000000002,0],\"b\":[0,0,1.0],\"c\":[0,1.0000000000000002,0],\"fill\":\"toself\",\"fillcolor\":\"#2E91E5\",\"hovertemplate\":\"<extra></extra>\",\"line\":{\"width\":0},\"mode\":\"lines\",\"name\":\"K\\u2014KF\\u2014Fe\",\"opacity\":0.15,\"showlegend\":false,\"type\":\"scatterternary\"},{\"a\":[0.9999999999999998,0,0],\"b\":[1.0000000000000007,1.0,0.9999999999999997],\"c\":[3.0000000000000027,0,2.0],\"fill\":\"toself\",\"fillcolor\":\"#E15F99\",\"hovertemplate\":\"<extra></extra>\",\"line\":{\"width\":0},\"mode\":\"lines\",\"name\":\"KFeF<sub>3</sub>\\u2014Fe\\u2014FeF<sub>2</sub>\",\"opacity\":0.15,\"showlegend\":false,\"type\":\"scatterternary\"},{\"a\":[0.9999999999999998,1.0000000000000002,0],\"b\":[1.0000000000000007,0,1.0],\"c\":[3.0000000000000027,1.0000000000000002,0],\"fill\":\"toself\",\"fillcolor\":\"#1CA71C\",\"hovertemplate\":\"<extra></extra>\",\"line\":{\"width\":0},\"mode\":\"lines\",\"name\":\"KFeF<sub>3</sub>\\u2014KF\\u2014Fe\",\"opacity\":0.15,\"showlegend\":false,\"type\":\"scatterternary\"},{\"a\":[3.9999999999999707,0.9999999999999998,0],\"b\":[3.0000000000000004,1.0000000000000007,0.9999999999999997],\"c\":[12.000000000000005,3.0000000000000027,2.0],\"fill\":\"toself\",\"fillcolor\":\"#FB0D0D\",\"hovertemplate\":\"<extra></extra>\",\"line\":{\"width\":0},\"mode\":\"lines\",\"name\":\"K<sub>4</sub>Fe<sub>3</sub>F<sub>12</sub>\\u2014KFeF<sub>3</sub>\\u2014FeF<sub>2</sub>\",\"opacity\":0.15,\"showlegend\":false,\"type\":\"scatterternary\"},{\"a\":[0.24999999999998745,0,0],\"b\":[1.000000000000001,0.9999999999999997,0.9999999999999998],\"c\":[3.0000000000000036,2.0,2.9999999999999982],\"fill\":\"toself\",\"fillcolor\":\"#DA16FF\",\"hovertemplate\":\"<extra></extra>\",\"line\":{\"width\":0},\"mode\":\"lines\",\"name\":\"K<sub>0.25</sub>Fe<sub>1</sub>F<sub>3</sub>\\u2014FeF<sub>2</sub>\\u2014FeF<sub>3</sub>\",\"opacity\":0.15,\"showlegend\":false,\"type\":\"scatterternary\"},{\"a\":[0.24999999999998745,3.9999999999999707,0],\"b\":[1.000000000000001,3.0000000000000004,0.9999999999999998],\"c\":[3.0000000000000036,12.000000000000005,2.9999999999999982],\"fill\":\"toself\",\"fillcolor\":\"#222A2A\",\"hovertemplate\":\"<extra></extra>\",\"line\":{\"width\":0},\"mode\":\"lines\",\"name\":\"K<sub>0.25</sub>Fe<sub>1</sub>F<sub>3</sub>\\u2014K<sub>4</sub>Fe<sub>3</sub>F<sub>12</sub>\\u2014FeF<sub>3</sub>\",\"opacity\":0.15,\"showlegend\":false,\"type\":\"scatterternary\"},{\"a\":[2.0000000000000004,3.9999999999999707,0],\"b\":[0.9999999999999999,3.0000000000000004,0.9999999999999998],\"c\":[5.000000000000001,12.000000000000005,2.9999999999999982],\"fill\":\"toself\",\"fillcolor\":\"#B68100\",\"hovertemplate\":\"<extra></extra>\",\"line\":{\"width\":0},\"mode\":\"lines\",\"name\":\"K<sub>2</sub>FeF<sub>5</sub>\\u2014K<sub>4</sub>Fe<sub>3</sub>F<sub>12</sub>\\u2014FeF<sub>3</sub>\",\"opacity\":0.15,\"showlegend\":false,\"type\":\"scatterternary\"},{\"a\":[2.0000000000000004,0,0],\"b\":[0.9999999999999999,0.9999999999999998,0],\"c\":[5.000000000000001,2.9999999999999982,1.0],\"fill\":\"toself\",\"fillcolor\":\"#750D86\",\"hovertemplate\":\"<extra></extra>\",\"line\":{\"width\":0},\"mode\":\"lines\",\"name\":\"K<sub>2</sub>FeF<sub>5</sub>\\u2014FeF<sub>3</sub>\\u2014F<sub>2</sub>\",\"opacity\":0.15,\"showlegend\":false,\"type\":\"scatterternary\"},{\"a\":[2.0000000000000004,1.0000000000000002,0],\"b\":[0.9999999999999999,0,0],\"c\":[5.000000000000001,1.0000000000000002,1.0],\"fill\":\"toself\",\"fillcolor\":\"#EB663B\",\"hovertemplate\":\"<extra></extra>\",\"line\":{\"width\":0},\"mode\":\"lines\",\"name\":\"K<sub>2</sub>FeF<sub>5</sub>\\u2014KF\\u2014F<sub>2</sub>\",\"opacity\":0.15,\"showlegend\":false,\"type\":\"scatterternary\"},{\"a\":[2.0000000000000004,0.9999999999999998,1.0000000000000002],\"b\":[0.9999999999999999,1.0000000000000007,0],\"c\":[5.000000000000001,3.0000000000000027,1.0000000000000002],\"fill\":\"toself\",\"fillcolor\":\"#511CFB\",\"hovertemplate\":\"<extra></extra>\",\"line\":{\"width\":0},\"mode\":\"lines\",\"name\":\"K<sub>2</sub>FeF<sub>5</sub>\\u2014KFeF<sub>3</sub>\\u2014KF\",\"opacity\":0.15,\"showlegend\":false,\"type\":\"scatterternary\"},{\"a\":[2.0000000000000004,3.9999999999999707,0.9999999999999998],\"b\":[0.9999999999999999,3.0000000000000004,1.0000000000000007],\"c\":[5.000000000000001,12.000000000000005,3.0000000000000027],\"fill\":\"toself\",\"fillcolor\":\"#00A08B\",\"hovertemplate\":\"<extra></extra>\",\"line\":{\"width\":0},\"mode\":\"lines\",\"name\":\"K<sub>2</sub>FeF<sub>5</sub>\\u2014K<sub>4</sub>Fe<sub>3</sub>F<sub>12</sub>\\u2014KFeF<sub>3</sub>\",\"opacity\":0.15,\"showlegend\":false,\"type\":\"scatterternary\"},{\"a\":[0.9999999999999496,3.9999999999999707,0],\"b\":[2.000000000000001,3.0000000000000004,0.9999999999999997],\"c\":[6.000000000000006,12.000000000000005,2.0],\"fill\":\"toself\",\"fillcolor\":\"#FB00D1\",\"hovertemplate\":\"<extra></extra>\",\"line\":{\"width\":0},\"mode\":\"lines\",\"name\":\"KFe<sub>2</sub>F<sub>6</sub>\\u2014K<sub>4</sub>Fe<sub>3</sub>F<sub>12</sub>\\u2014FeF<sub>2</sub>\",\"opacity\":0.15,\"showlegend\":false,\"type\":\"scatterternary\"},{\"a\":[0.9999999999999496,0.24999999999998745,0],\"b\":[2.000000000000001,1.000000000000001,0.9999999999999997],\"c\":[6.000000000000006,3.0000000000000036,2.0],\"fill\":\"toself\",\"fillcolor\":\"#FC0080\",\"hovertemplate\":\"<extra></extra>\",\"line\":{\"width\":0},\"mode\":\"lines\",\"name\":\"KFe<sub>2</sub>F<sub>6</sub>\\u2014K<sub>0.25</sub>Fe<sub>1</sub>F<sub>3</sub>\\u2014FeF<sub>2</sub>\",\"opacity\":0.15,\"showlegend\":false,\"type\":\"scatterternary\"},{\"a\":[0.9999999999999496,0.24999999999998745,3.9999999999999707],\"b\":[2.000000000000001,1.000000000000001,3.0000000000000004],\"c\":[6.000000000000006,3.0000000000000036,12.000000000000005],\"fill\":\"toself\",\"fillcolor\":\"#B2828D\",\"hovertemplate\":\"<extra></extra>\",\"line\":{\"width\":0},\"mode\":\"lines\",\"name\":\"KFe<sub>2</sub>F<sub>6</sub>\\u2014K<sub>0.25</sub>Fe<sub>1</sub>F<sub>3</sub>\\u2014K<sub>4</sub>Fe<sub>3</sub>F<sub>12</sub>\",\"opacity\":0.15,\"showlegend\":false,\"type\":\"scatterternary\"},{\"a\":[1.0000000000000002,0,0.9999999999999998,0,0,0.24999999999998745,2.0000000000000004,3.9999999999999707,1.0,0,0.9999999999999496],\"b\":[0,0,1.0000000000000007,1.0,0.9999999999999997,1.000000000000001,0.9999999999999999,3.0000000000000004,0,0.9999999999999998,2.000000000000001],\"c\":[1.0000000000000002,1.0,3.0000000000000027,0,2.0,3.0000000000000036,5.000000000000001,12.000000000000005,0,2.9999999999999982,6.000000000000006],\"cliponaxis\":false,\"hoverinfo\":\"text\",\"hoverlabel\":{\"font\":{\"size\":14}},\"hovertext\":[\"KF (no ID) <br> -2.924 eV/atom (Stable)\",\"F<sub>2</sub> (no ID) <br> 0.0 eV/atom (Stable)\",\"KFeF<sub>3</sub> (no ID) <br> -3.066 eV/atom (Stable)\",\"Fe (no ID) <br> 0.0 eV/atom (Stable)\",\"FeF<sub>2</sub> (no ID) <br> -3.007 eV/atom (Stable)\",\"K<sub>0.25</sub>Fe<sub>1</sub>F<sub>3</sub> (no ID) <br> -3.044 eV/atom (Stable)\",\"K<sub>2</sub>FeF<sub>5</sub> (no ID) <br> -3.105 eV/atom (Stable)\",\"K<sub>4</sub>Fe<sub>3</sub>F<sub>12</sub> (no ID) <br> -3.093 eV/atom (Stable)\",\"K (no ID) <br> 0.0 eV/atom (Stable)\",\"FeF<sub>3</sub> (no ID) <br> -3.025 eV/atom (Stable)\",\"KFe<sub>2</sub>F<sub>6</sub> (no ID) <br> -3.058 eV/atom (Stable)\"],\"marker\":{\"color\":\"green\",\"line\":{\"color\":\"black\",\"width\":2.0},\"size\":15,\"symbol\":\"circle\"},\"mode\":\"markers\",\"name\":\"Stable\",\"showlegend\":true,\"type\":\"scatterternary\"},{\"a\":[0.6000000000000002,1.0,1.9999999999999998,3.000000000000001],\"b\":[1.0000000000000002,1.0000000000000013,2.0000000000000036,5.9999999999999964],\"c\":[3.0000000000000013,4.000000000000001,7.000000000000003,19.0],\"cliponaxis\":false,\"hoverinfo\":\"text\",\"hoverlabel\":{\"font\":{\"size\":14}},\"hovertext\":[\"K<sub>0.6</sub>Fe<sub>1</sub>F<sub>3</sub> (no ID) <br> -3.061 eV/atom (+0.001 eV/atom)\",\"KFeF<sub>4</sub> (no ID) <br> -3.07 eV/atom (+0.008 eV/atom)\",\"K<sub>2</sub>Fe<sub>2</sub>F<sub>7</sub> (no ID) <br> -3.066 eV/atom (+0.015 eV/atom)\",\"K<sub>3</sub>Fe<sub>6</sub>F<sub>19</sub> (no ID) <br> -3.058 eV/atom (+0.001 eV/atom)\"],\"marker\":{\"color\":[0.001,0.008,0.015,0.001],\"colorbar\":{\"len\":0.5,\"thickness\":0.02,\"thicknessmode\":\"fraction\",\"title\":{\"text\":\"Energy Above Hull<br>(eV/atom)\"},\"x\":0,\"xpad\":0,\"y\":1,\"yanchor\":\"top\",\"ypad\":0},\"colorscale\":[[0.0,\"#fff5e3\"],[0.5,\"#f24324\"],[1.0,\"#c40000\"]],\"line\":{\"color\":\"black\",\"width\":1},\"opacity\":0.8,\"size\":7,\"symbol\":\"diamond\"},\"mode\":\"markers\",\"name\":\"Above Hull\",\"showlegend\":true,\"type\":\"scatterternary\"}],                        {\"autosize\":true,\"margin\":{\"b\":40,\"l\":20,\"r\":20,\"t\":40},\"paper_bgcolor\":\"rgba(0,0,0,0)\",\"plot_bgcolor\":\"rgba(0,0,0,0)\",\"showlegend\":true,\"ternary\":{\"aaxis\":{\"layer\":\"below traces\",\"showgrid\":true,\"showticklabels\":true,\"tickfont\":{\"color\":\"rgba(0,0,0,0)\",\"size\":7},\"title\":{\"font\":{\"size\":24},\"text\":\"K\"}},\"baxis\":{\"layer\":\"below traces\",\"min\":0,\"showgrid\":true,\"showticklabels\":true,\"tickfont\":{\"color\":\"rgba(0,0,0,0)\",\"size\":7},\"title\":{\"font\":{\"size\":24},\"text\":\"Fe\"}},\"caxis\":{\"layer\":\"below traces\",\"min\":0,\"showgrid\":true,\"showticklabels\":true,\"tickfont\":{\"color\":\"rgba(0,0,0,0)\",\"size\":7},\"title\":{\"font\":{\"size\":24},\"text\":\"F<sub>2</sub>\"}},\"sum\":1},\"template\":{\"data\":{\"histogram2dcontour\":[{\"type\":\"histogram2dcontour\",\"colorbar\":{\"outlinewidth\":0,\"ticks\":\"\"},\"colorscale\":[[0.0,\"#0d0887\"],[0.1111111111111111,\"#46039f\"],[0.2222222222222222,\"#7201a8\"],[0.3333333333333333,\"#9c179e\"],[0.4444444444444444,\"#bd3786\"],[0.5555555555555556,\"#d8576b\"],[0.6666666666666666,\"#ed7953\"],[0.7777777777777778,\"#fb9f3a\"],[0.8888888888888888,\"#fdca26\"],[1.0,\"#f0f921\"]]}],\"choropleth\":[{\"type\":\"choropleth\",\"colorbar\":{\"outlinewidth\":0,\"ticks\":\"\"}}],\"histogram2d\":[{\"type\":\"histogram2d\",\"colorbar\":{\"outlinewidth\":0,\"ticks\":\"\"},\"colorscale\":[[0.0,\"#0d0887\"],[0.1111111111111111,\"#46039f\"],[0.2222222222222222,\"#7201a8\"],[0.3333333333333333,\"#9c179e\"],[0.4444444444444444,\"#bd3786\"],[0.5555555555555556,\"#d8576b\"],[0.6666666666666666,\"#ed7953\"],[0.7777777777777778,\"#fb9f3a\"],[0.8888888888888888,\"#fdca26\"],[1.0,\"#f0f921\"]]}],\"heatmap\":[{\"type\":\"heatmap\",\"colorbar\":{\"outlinewidth\":0,\"ticks\":\"\"},\"colorscale\":[[0.0,\"#0d0887\"],[0.1111111111111111,\"#46039f\"],[0.2222222222222222,\"#7201a8\"],[0.3333333333333333,\"#9c179e\"],[0.4444444444444444,\"#bd3786\"],[0.5555555555555556,\"#d8576b\"],[0.6666666666666666,\"#ed7953\"],[0.7777777777777778,\"#fb9f3a\"],[0.8888888888888888,\"#fdca26\"],[1.0,\"#f0f921\"]]}],\"heatmapgl\":[{\"type\":\"heatmapgl\",\"colorbar\":{\"outlinewidth\":0,\"ticks\":\"\"},\"colorscale\":[[0.0,\"#0d0887\"],[0.1111111111111111,\"#46039f\"],[0.2222222222222222,\"#7201a8\"],[0.3333333333333333,\"#9c179e\"],[0.4444444444444444,\"#bd3786\"],[0.5555555555555556,\"#d8576b\"],[0.6666666666666666,\"#ed7953\"],[0.7777777777777778,\"#fb9f3a\"],[0.8888888888888888,\"#fdca26\"],[1.0,\"#f0f921\"]]}],\"contourcarpet\":[{\"type\":\"contourcarpet\",\"colorbar\":{\"outlinewidth\":0,\"ticks\":\"\"}}],\"contour\":[{\"type\":\"contour\",\"colorbar\":{\"outlinewidth\":0,\"ticks\":\"\"},\"colorscale\":[[0.0,\"#0d0887\"],[0.1111111111111111,\"#46039f\"],[0.2222222222222222,\"#7201a8\"],[0.3333333333333333,\"#9c179e\"],[0.4444444444444444,\"#bd3786\"],[0.5555555555555556,\"#d8576b\"],[0.6666666666666666,\"#ed7953\"],[0.7777777777777778,\"#fb9f3a\"],[0.8888888888888888,\"#fdca26\"],[1.0,\"#f0f921\"]]}],\"surface\":[{\"type\":\"surface\",\"colorbar\":{\"outlinewidth\":0,\"ticks\":\"\"},\"colorscale\":[[0.0,\"#0d0887\"],[0.1111111111111111,\"#46039f\"],[0.2222222222222222,\"#7201a8\"],[0.3333333333333333,\"#9c179e\"],[0.4444444444444444,\"#bd3786\"],[0.5555555555555556,\"#d8576b\"],[0.6666666666666666,\"#ed7953\"],[0.7777777777777778,\"#fb9f3a\"],[0.8888888888888888,\"#fdca26\"],[1.0,\"#f0f921\"]]}],\"mesh3d\":[{\"type\":\"mesh3d\",\"colorbar\":{\"outlinewidth\":0,\"ticks\":\"\"}}],\"scatter\":[{\"fillpattern\":{\"fillmode\":\"overlay\",\"size\":10,\"solidity\":0.2},\"type\":\"scatter\"}],\"parcoords\":[{\"type\":\"parcoords\",\"line\":{\"colorbar\":{\"outlinewidth\":0,\"ticks\":\"\"}}}],\"scatterpolargl\":[{\"type\":\"scatterpolargl\",\"marker\":{\"colorbar\":{\"outlinewidth\":0,\"ticks\":\"\"}}}],\"bar\":[{\"error_x\":{\"color\":\"#2a3f5f\"},\"error_y\":{\"color\":\"#2a3f5f\"},\"marker\":{\"line\":{\"color\":\"#E5ECF6\",\"width\":0.5},\"pattern\":{\"fillmode\":\"overlay\",\"size\":10,\"solidity\":0.2}},\"type\":\"bar\"}],\"scattergeo\":[{\"type\":\"scattergeo\",\"marker\":{\"colorbar\":{\"outlinewidth\":0,\"ticks\":\"\"}}}],\"scatterpolar\":[{\"type\":\"scatterpolar\",\"marker\":{\"colorbar\":{\"outlinewidth\":0,\"ticks\":\"\"}}}],\"histogram\":[{\"marker\":{\"pattern\":{\"fillmode\":\"overlay\",\"size\":10,\"solidity\":0.2}},\"type\":\"histogram\"}],\"scattergl\":[{\"type\":\"scattergl\",\"marker\":{\"colorbar\":{\"outlinewidth\":0,\"ticks\":\"\"}}}],\"scatter3d\":[{\"type\":\"scatter3d\",\"line\":{\"colorbar\":{\"outlinewidth\":0,\"ticks\":\"\"}},\"marker\":{\"colorbar\":{\"outlinewidth\":0,\"ticks\":\"\"}}}],\"scattermapbox\":[{\"type\":\"scattermapbox\",\"marker\":{\"colorbar\":{\"outlinewidth\":0,\"ticks\":\"\"}}}],\"scatterternary\":[{\"type\":\"scatterternary\",\"marker\":{\"colorbar\":{\"outlinewidth\":0,\"ticks\":\"\"}}}],\"scattercarpet\":[{\"type\":\"scattercarpet\",\"marker\":{\"colorbar\":{\"outlinewidth\":0,\"ticks\":\"\"}}}],\"carpet\":[{\"aaxis\":{\"endlinecolor\":\"#2a3f5f\",\"gridcolor\":\"white\",\"linecolor\":\"white\",\"minorgridcolor\":\"white\",\"startlinecolor\":\"#2a3f5f\"},\"baxis\":{\"endlinecolor\":\"#2a3f5f\",\"gridcolor\":\"white\",\"linecolor\":\"white\",\"minorgridcolor\":\"white\",\"startlinecolor\":\"#2a3f5f\"},\"type\":\"carpet\"}],\"table\":[{\"cells\":{\"fill\":{\"color\":\"#EBF0F8\"},\"line\":{\"color\":\"white\"}},\"header\":{\"fill\":{\"color\":\"#C8D4E3\"},\"line\":{\"color\":\"white\"}},\"type\":\"table\"}],\"barpolar\":[{\"marker\":{\"line\":{\"color\":\"#E5ECF6\",\"width\":0.5},\"pattern\":{\"fillmode\":\"overlay\",\"size\":10,\"solidity\":0.2}},\"type\":\"barpolar\"}],\"pie\":[{\"automargin\":true,\"type\":\"pie\"}]},\"layout\":{\"autotypenumbers\":\"strict\",\"colorway\":[\"#636efa\",\"#EF553B\",\"#00cc96\",\"#ab63fa\",\"#FFA15A\",\"#19d3f3\",\"#FF6692\",\"#B6E880\",\"#FF97FF\",\"#FECB52\"],\"font\":{\"color\":\"#2a3f5f\"},\"hovermode\":\"closest\",\"hoverlabel\":{\"align\":\"left\"},\"paper_bgcolor\":\"white\",\"plot_bgcolor\":\"#E5ECF6\",\"polar\":{\"bgcolor\":\"#E5ECF6\",\"angularaxis\":{\"gridcolor\":\"white\",\"linecolor\":\"white\",\"ticks\":\"\"},\"radialaxis\":{\"gridcolor\":\"white\",\"linecolor\":\"white\",\"ticks\":\"\"}},\"ternary\":{\"bgcolor\":\"#E5ECF6\",\"aaxis\":{\"gridcolor\":\"white\",\"linecolor\":\"white\",\"ticks\":\"\"},\"baxis\":{\"gridcolor\":\"white\",\"linecolor\":\"white\",\"ticks\":\"\"},\"caxis\":{\"gridcolor\":\"white\",\"linecolor\":\"white\",\"ticks\":\"\"}},\"coloraxis\":{\"colorbar\":{\"outlinewidth\":0,\"ticks\":\"\"}},\"colorscale\":{\"sequential\":[[0.0,\"#0d0887\"],[0.1111111111111111,\"#46039f\"],[0.2222222222222222,\"#7201a8\"],[0.3333333333333333,\"#9c179e\"],[0.4444444444444444,\"#bd3786\"],[0.5555555555555556,\"#d8576b\"],[0.6666666666666666,\"#ed7953\"],[0.7777777777777778,\"#fb9f3a\"],[0.8888888888888888,\"#fdca26\"],[1.0,\"#f0f921\"]],\"sequentialminus\":[[0.0,\"#0d0887\"],[0.1111111111111111,\"#46039f\"],[0.2222222222222222,\"#7201a8\"],[0.3333333333333333,\"#9c179e\"],[0.4444444444444444,\"#bd3786\"],[0.5555555555555556,\"#d8576b\"],[0.6666666666666666,\"#ed7953\"],[0.7777777777777778,\"#fb9f3a\"],[0.8888888888888888,\"#fdca26\"],[1.0,\"#f0f921\"]],\"diverging\":[[0,\"#8e0152\"],[0.1,\"#c51b7d\"],[0.2,\"#de77ae\"],[0.3,\"#f1b6da\"],[0.4,\"#fde0ef\"],[0.5,\"#f7f7f7\"],[0.6,\"#e6f5d0\"],[0.7,\"#b8e186\"],[0.8,\"#7fbc41\"],[0.9,\"#4d9221\"],[1,\"#276419\"]]},\"xaxis\":{\"gridcolor\":\"white\",\"linecolor\":\"white\",\"ticks\":\"\",\"title\":{\"standoff\":15},\"zerolinecolor\":\"white\",\"automargin\":true,\"zerolinewidth\":2},\"yaxis\":{\"gridcolor\":\"white\",\"linecolor\":\"white\",\"ticks\":\"\",\"title\":{\"standoff\":15},\"zerolinecolor\":\"white\",\"automargin\":true,\"zerolinewidth\":2},\"scene\":{\"xaxis\":{\"backgroundcolor\":\"#E5ECF6\",\"gridcolor\":\"white\",\"linecolor\":\"white\",\"showbackground\":true,\"ticks\":\"\",\"zerolinecolor\":\"white\",\"gridwidth\":2},\"yaxis\":{\"backgroundcolor\":\"#E5ECF6\",\"gridcolor\":\"white\",\"linecolor\":\"white\",\"showbackground\":true,\"ticks\":\"\",\"zerolinecolor\":\"white\",\"gridwidth\":2},\"zaxis\":{\"backgroundcolor\":\"#E5ECF6\",\"gridcolor\":\"white\",\"linecolor\":\"white\",\"showbackground\":true,\"ticks\":\"\",\"zerolinecolor\":\"white\",\"gridwidth\":2}},\"shapedefaults\":{\"line\":{\"color\":\"#2a3f5f\"}},\"annotationdefaults\":{\"arrowcolor\":\"#2a3f5f\",\"arrowhead\":0,\"arrowwidth\":1},\"geo\":{\"bgcolor\":\"white\",\"landcolor\":\"#E5ECF6\",\"subunitcolor\":\"white\",\"showland\":true,\"showlakes\":true,\"lakecolor\":\"white\"},\"title\":{\"x\":0.05},\"mapbox\":{\"style\":\"light\"}}},\"coloraxis\":{\"colorbar\":{\"yanchor\":\"top\",\"y\":0.05,\"x\":1}}},                        {\"responsive\": true}                    ).then(function(){\n",
       "                            \n",
       "var gd = document.getElementById('ec6118e2-d2ae-4a4c-a7ea-bed335cfa2f5');\n",
       "var x = new MutationObserver(function (mutations, observer) {{\n",
       "        var display = window.getComputedStyle(gd).display;\n",
       "        if (!display || display === 'none') {{\n",
       "            console.log([gd, 'removed!']);\n",
       "            Plotly.purge(gd);\n",
       "            observer.disconnect();\n",
       "        }}\n",
       "}});\n",
       "\n",
       "// Listen for the removal of the full notebook cells\n",
       "var notebookContainer = gd.closest('#notebook-container');\n",
       "if (notebookContainer) {{\n",
       "    x.observe(notebookContainer, {childList: true});\n",
       "}}\n",
       "\n",
       "// Listen for the clearing of the current output cell\n",
       "var outputEl = gd.closest('.output');\n",
       "if (outputEl) {{\n",
       "    x.observe(outputEl, {childList: true});\n",
       "}}\n",
       "\n",
       "                        })                };                });            </script>        </div>"
      ]
     },
     "metadata": {},
     "output_type": "display_data"
    }
   ],
   "source": [
    "x = pd_plotter.get_plot(pd_2, label_unstable = True)\n",
    "decomp = pd_2.get_decomp_and_e_above_hull(entry10, allow_negative=True)\n",
    "print(decomp)\n",
    "pd_plotter.show()"
   ]
  },
  {
   "cell_type": "code",
   "execution_count": 38,
   "metadata": {},
   "outputs": [
    {
     "data": {
      "image/png": "[encoded data removed]",
      "text/plain": [
       "<Figure size 800x600 with 1 Axes>"
      ]
     },
     "metadata": {},
     "output_type": "display_data"
    }
   ],
   "source": [
    "\n",
    "pd_plotter = PDPlotter(pd_2, show_unstable = True, backend = \"matplotlib\", markersize = 20)\n",
    "\n",
    "z = pd_plotter.get_plot(label_unstable=False, label_stable=False)\n",
    "z.savefig('2_K-Fe-F_new.pdf')\n",
    "z.show()"
   ]
  },
  {
   "cell_type": "code",
   "execution_count": null,
   "metadata": {},
   "outputs": [],
   "source": []
  },
  {
   "cell_type": "code",
   "execution_count": null,
   "metadata": {},
   "outputs": [],
   "source": []
  }
 ],
 "metadata": {
  "kernelspec": {
   "display_name": "Python 3 (ipykernel)",
   "language": "python",
   "name": "python3"
  },
  "language_info": {
   "codemirror_mode": {
    "name": "ipython",
    "version": 3
   },
   "file_extension": ".py",
   "mimetype": "text/x-python",
   "name": "python",
   "nbconvert_exporter": "python",
   "pygments_lexer": "ipython3",
   "version": "3.10.9"
  }
 },
 "nbformat": 4,
 "nbformat_minor": 4
}
